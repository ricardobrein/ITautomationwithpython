{
  "nbformat": 4,
  "nbformat_minor": 0,
  "metadata": {
    "colab": {
      "provenance": [],
      "authorship_tag": "ABX9TyMsQJsSSD+R49wh97qeeOwh",
      "include_colab_link": true
    },
    "kernelspec": {
      "name": "python3",
      "display_name": "Python 3"
    },
    "language_info": {
      "name": "python"
    }
  },
  "cells": [
    {
      "cell_type": "markdown",
      "metadata": {
        "id": "view-in-github",
        "colab_type": "text"
      },
      "source": [
        "<a href=\"https://colab.research.google.com/github/ricardobrein/ITautomationwithpython/blob/main/Curso_intensivo_de_python.ipynb\" target=\"_parent\"><img src=\"https://colab.research.google.com/assets/colab-badge.svg\" alt=\"Open In Colab\"/></a>"
      ]
    },
    {
      "cell_type": "code",
      "execution_count": null,
      "metadata": {
        "colab": {
          "base_uri": "https://localhost:8080/"
        },
        "id": "WOuQp4W1pZ8z",
        "outputId": "231de149-28cf-4f43-f3f8-8a8eef15d1cc"
      },
      "outputs": [
        {
          "output_type": "stream",
          "name": "stdout",
          "text": [
            "make me sweat, make me harder, make me lose my breath, make me water\n"
          ]
        }
      ],
      "source": [
        "print('make me sweat, make me harder, make me lose my breath, make me water')"
      ]
    },
    {
      "cell_type": "code",
      "source": [
        "# prompt: print the first verse of the chorus of the song \"water\" from Tyla in python code with symbols of songs\n",
        "\n",
        "print('''🎶(Chorus)🎶\n",
        "Make me sweat, make me harder,\n",
        "Make me lose my breath, make me water\n",
        "Make me sweat, make me harder,\n",
        "Make me lose my breath, make me water''')\n"
      ],
      "metadata": {
        "colab": {
          "base_uri": "https://localhost:8080/"
        },
        "id": "2wx5GbKTqtbD",
        "outputId": "f7bddf47-3cc2-48e9-c66b-48acde7b216f"
      },
      "execution_count": null,
      "outputs": [
        {
          "output_type": "stream",
          "name": "stdout",
          "text": [
            "🎶(Chorus)🎶\n",
            "Make me sweat, make me harder, \n",
            "Make me lose my breath, make me water\n",
            "Make me sweat, make me harder, \n",
            "Make me lose my breath, make me water\n"
          ]
        }
      ]
    },
    {
      "cell_type": "code",
      "source": [
        "print(2+2/((2+2)+(2**2)))"
      ],
      "metadata": {
        "colab": {
          "base_uri": "https://localhost:8080/"
        },
        "id": "TVd8jRsMxu4m",
        "outputId": "55581444-0a7c-42ae-91df-78b704fcf4e0"
      },
      "execution_count": null,
      "outputs": [
        {
          "output_type": "stream",
          "name": "stdout",
          "text": [
            "2.25\n"
          ]
        }
      ]
    },
    {
      "cell_type": "code",
      "source": [
        "# prompt: Pregunta 9\n",
        "# El mercado está a seis millas de su casa. La escuela está a tres kilómetros de su casa. Utilice Python para calcular cuánto más lejos está el mercado de su casa que la escuela (en millas). Nota: Su resultado debe tener el formato de un número, no de una frase.\n",
        "\n",
        "market_distance_miles = 6\n",
        "school_distance_km = 3\n",
        "# Convert school distance to miles (approximately 1 km = 0.621371 miles)\n",
        "school_distance_miles = school_distance_km * 0.621371\n",
        "\n",
        "# Calculate the difference in distance\n",
        "difference_in_miles = market_distance_miles - school_distance_miles\n",
        "\n",
        "print(round(difference_in_miles))\n"
      ],
      "metadata": {
        "colab": {
          "base_uri": "https://localhost:8080/"
        },
        "id": "S2TreDU_xvWu",
        "outputId": "4024011c-e89b-46b9-8c9c-06e7580eb18d"
      },
      "execution_count": null,
      "outputs": [
        {
          "output_type": "stream",
          "name": "stdout",
          "text": [
            "4\n"
          ]
        }
      ]
    },
    {
      "cell_type": "code",
      "source": [
        "(2*3) + 4"
      ],
      "metadata": {
        "id": "Y63O-E7byPV2",
        "colab": {
          "base_uri": "https://localhost:8080/"
        },
        "outputId": "5483ac51-973b-4b2d-bebe-656dd5abbced"
      },
      "execution_count": 1,
      "outputs": [
        {
          "output_type": "execute_result",
          "data": {
            "text/plain": [
              "10"
            ]
          },
          "metadata": {},
          "execution_count": 1
        }
      ]
    },
    {
      "cell_type": "code",
      "source": [
        "print('Hola mundo!')\n",
        "nombre = input('¿Cual es tu nombre?: ')\n",
        "print('Hola, ' + nombre)"
      ],
      "metadata": {
        "colab": {
          "base_uri": "https://localhost:8080/"
        },
        "id": "g1yp1e9C5nE9",
        "outputId": "8c896da4-626a-4d9d-c24f-d42a9c651f24"
      },
      "execution_count": 15,
      "outputs": [
        {
          "output_type": "stream",
          "name": "stdout",
          "text": [
            "Hola mundo!\n",
            "¿Cual es tu nombre?: Ricardo\n",
            "Hola, Ricardo\n"
          ]
        }
      ]
    },
    {
      "cell_type": "code",
      "source": [
        "var = 'manuel'\n",
        "upper(var)\n",
        "print(var)"
      ],
      "metadata": {
        "colab": {
          "base_uri": "https://localhost:8080/",
          "height": 182
        },
        "id": "AGWiiW6b53WF",
        "outputId": "aba33984-cf41-476c-9bd3-a1c1da139456"
      },
      "execution_count": 6,
      "outputs": [
        {
          "output_type": "error",
          "ename": "NameError",
          "evalue": "name 'upper' is not defined",
          "traceback": [
            "\u001b[0;31m---------------------------------------------------------------------------\u001b[0m",
            "\u001b[0;31mNameError\u001b[0m                                 Traceback (most recent call last)",
            "\u001b[0;32m<ipython-input-6-3f89bf2d245f>\u001b[0m in \u001b[0;36m<cell line: 2>\u001b[0;34m()\u001b[0m\n\u001b[1;32m      1\u001b[0m \u001b[0mvar\u001b[0m \u001b[0;34m=\u001b[0m \u001b[0;34m'manuel'\u001b[0m\u001b[0;34m\u001b[0m\u001b[0;34m\u001b[0m\u001b[0m\n\u001b[0;32m----> 2\u001b[0;31m \u001b[0mupper\u001b[0m\u001b[0;34m(\u001b[0m\u001b[0mvar\u001b[0m\u001b[0;34m)\u001b[0m\u001b[0;34m\u001b[0m\u001b[0;34m\u001b[0m\u001b[0m\n\u001b[0m\u001b[1;32m      3\u001b[0m \u001b[0mprint\u001b[0m\u001b[0;34m(\u001b[0m\u001b[0mvar\u001b[0m\u001b[0;34m)\u001b[0m\u001b[0;34m\u001b[0m\u001b[0;34m\u001b[0m\u001b[0m\n",
            "\u001b[0;31mNameError\u001b[0m: name 'upper' is not defined"
          ]
        }
      ]
    },
    {
      "cell_type": "code",
      "source": [
        "texto = 'Hola, mundo'\n",
        "print(texto.upper())"
      ],
      "metadata": {
        "colab": {
          "base_uri": "https://localhost:8080/"
        },
        "id": "Imdj3pWs6CwV",
        "outputId": "bbea6bfd-09b9-49fa-8633-966f5a6003ec"
      },
      "execution_count": 8,
      "outputs": [
        {
          "output_type": "stream",
          "name": "stdout",
          "text": [
            "HOLA, MUNDO\n"
          ]
        }
      ]
    },
    {
      "cell_type": "code",
      "source": [
        "print(texto.startswith('mundo'))"
      ],
      "metadata": {
        "colab": {
          "base_uri": "https://localhost:8080/"
        },
        "id": "K-or2Y9C6qR-",
        "outputId": "ae59a587-80d8-4e36-d56d-9f933e2b1395"
      },
      "execution_count": 12,
      "outputs": [
        {
          "output_type": "stream",
          "name": "stdout",
          "text": [
            "False\n"
          ]
        }
      ]
    },
    {
      "cell_type": "code",
      "source": [
        "List:[int] = [25,29,30]"
      ],
      "metadata": {
        "id": "unH4n4Z26y8L"
      },
      "execution_count": 1,
      "outputs": []
    },
    {
      "cell_type": "code",
      "source": [
        "List"
      ],
      "metadata": {
        "colab": {
          "base_uri": "https://localhost:8080/"
        },
        "id": "jUpzSonkmZuw",
        "outputId": "2d8003a5-9409-416f-d3ea-b8798f540c84"
      },
      "execution_count": 2,
      "outputs": [
        {
          "output_type": "execute_result",
          "data": {
            "text/plain": [
              "[25, 29, 30]"
            ]
          },
          "metadata": {},
          "execution_count": 2
        }
      ]
    },
    {
      "cell_type": "code",
      "source": [
        "List.append(31)"
      ],
      "metadata": {
        "id": "Qy4g8nxLmdxC"
      },
      "execution_count": 3,
      "outputs": []
    },
    {
      "cell_type": "code",
      "source": [
        "List"
      ],
      "metadata": {
        "colab": {
          "base_uri": "https://localhost:8080/"
        },
        "id": "nAlk0CU7mhKZ",
        "outputId": "be525b81-8c3d-4580-aa17-005667e6b22c"
      },
      "execution_count": 4,
      "outputs": [
        {
          "output_type": "execute_result",
          "data": {
            "text/plain": [
              "[25, 29, 30, 31]"
            ]
          },
          "metadata": {},
          "execution_count": 4
        }
      ]
    },
    {
      "cell_type": "code",
      "source": [
        "List.pop(0)"
      ],
      "metadata": {
        "colab": {
          "base_uri": "https://localhost:8080/"
        },
        "id": "rJ15vBosmh0T",
        "outputId": "ccf5bcd4-0584-411f-cb6e-101a13ea5540"
      },
      "execution_count": 5,
      "outputs": [
        {
          "output_type": "execute_result",
          "data": {
            "text/plain": [
              "25"
            ]
          },
          "metadata": {},
          "execution_count": 5
        }
      ]
    },
    {
      "cell_type": "code",
      "source": [
        "List"
      ],
      "metadata": {
        "colab": {
          "base_uri": "https://localhost:8080/"
        },
        "id": "zHZB0Z77mk-c",
        "outputId": "7d52986c-41e3-45f6-93a9-d398dcc7f43b"
      },
      "execution_count": 6,
      "outputs": [
        {
          "output_type": "execute_result",
          "data": {
            "text/plain": [
              "[29, 30, 31]"
            ]
          },
          "metadata": {},
          "execution_count": 6
        }
      ]
    },
    {
      "cell_type": "code",
      "source": [
        "List.append(25)"
      ],
      "metadata": {
        "id": "Zqa6q7pWmmno"
      },
      "execution_count": 7,
      "outputs": []
    },
    {
      "cell_type": "code",
      "source": [
        "List"
      ],
      "metadata": {
        "colab": {
          "base_uri": "https://localhost:8080/"
        },
        "id": "JcvSrEPwmpgv",
        "outputId": "25988134-9d21-41b7-db61-bcdc3b958fb1"
      },
      "execution_count": 8,
      "outputs": [
        {
          "output_type": "execute_result",
          "data": {
            "text/plain": [
              "[29, 30, 31, 25]"
            ]
          },
          "metadata": {},
          "execution_count": 8
        }
      ]
    },
    {
      "cell_type": "code",
      "source": [
        "List.sort()"
      ],
      "metadata": {
        "id": "for20oL2mqKg"
      },
      "execution_count": 10,
      "outputs": []
    },
    {
      "cell_type": "code",
      "source": [
        "List"
      ],
      "metadata": {
        "colab": {
          "base_uri": "https://localhost:8080/"
        },
        "id": "zuoQyv1rmsox",
        "outputId": "87495fa8-dc63-44b9-d232-758ab61e6753"
      },
      "execution_count": 11,
      "outputs": [
        {
          "output_type": "execute_result",
          "data": {
            "text/plain": [
              "[25, 29, 30, 31]"
            ]
          },
          "metadata": {},
          "execution_count": 11
        }
      ]
    },
    {
      "cell_type": "code",
      "source": [
        "nombre:str = 'Pedro'"
      ],
      "metadata": {
        "id": "SFZ4rWrEmu3u"
      },
      "execution_count": 12,
      "outputs": []
    },
    {
      "cell_type": "code",
      "source": [
        "nombre"
      ],
      "metadata": {
        "colab": {
          "base_uri": "https://localhost:8080/",
          "height": 37
        },
        "id": "T736XsfJm8y8",
        "outputId": "51e8a51f-4484-4a5f-e219-75c0dd79312e"
      },
      "execution_count": 13,
      "outputs": [
        {
          "output_type": "execute_result",
          "data": {
            "text/plain": [
              "'Pedro'"
            ],
            "application/vnd.google.colaboratory.intrinsic+json": {
              "type": "string"
            }
          },
          "metadata": {},
          "execution_count": 13
        }
      ]
    },
    {
      "cell_type": "code",
      "source": [
        "print(nombre)"
      ],
      "metadata": {
        "colab": {
          "base_uri": "https://localhost:8080/"
        },
        "id": "bj8hbLBFm971",
        "outputId": "746dc8bd-1d5d-489f-b7f0-412d1771cbd4"
      },
      "execution_count": 14,
      "outputs": [
        {
          "output_type": "stream",
          "name": "stdout",
          "text": [
            "Pedro\n"
          ]
        }
      ]
    },
    {
      "cell_type": "code",
      "source": [
        "List.append(nombre)"
      ],
      "metadata": {
        "id": "yQsUAsxxnDVT"
      },
      "execution_count": 15,
      "outputs": []
    },
    {
      "cell_type": "code",
      "source": [
        "List"
      ],
      "metadata": {
        "colab": {
          "base_uri": "https://localhost:8080/"
        },
        "id": "vzmgnxR0nNAR",
        "outputId": "325e760e-d247-4543-9d50-01dfa2a1360e"
      },
      "execution_count": 16,
      "outputs": [
        {
          "output_type": "execute_result",
          "data": {
            "text/plain": [
              "[25, 29, 30, 31, 'Pedro']"
            ]
          },
          "metadata": {},
          "execution_count": 16
        }
      ]
    },
    {
      "cell_type": "code",
      "source": [
        "a = 1\n",
        "print(type(a))\n",
        "a = 'hola'\n",
        "print(type(a))"
      ],
      "metadata": {
        "colab": {
          "base_uri": "https://localhost:8080/"
        },
        "id": "Pymc9QTwnOnw",
        "outputId": "fda6f908-cd1c-429e-9fb5-ea8e5d249aa8"
      },
      "execution_count": 18,
      "outputs": [
        {
          "output_type": "stream",
          "name": "stdout",
          "text": [
            "<class 'int'>\n",
            "<class 'str'>\n"
          ]
        }
      ]
    },
    {
      "cell_type": "markdown",
      "source": [
        "**Las anotaciones afectan de tipo al comportamiento en tiempo de ejecución**\n",
        "Cada vez que se llama a una librería, o un IDE trabaja para escanear tu código, se requiere más sobrecarga computacional."
      ],
      "metadata": {
        "id": "bH2uWxWzoBmC"
      }
    },
    {
      "cell_type": "markdown",
      "source": [
        "Anotar variables directamente es la forma más \"moderna\" de anotar una variable."
      ],
      "metadata": {
        "id": "SGyjdArlpc0r"
      }
    },
    {
      "cell_type": "code",
      "source": [
        "estudiante:str = 'Ricardo'"
      ],
      "metadata": {
        "id": "uUUjCQsFnkBd"
      },
      "execution_count": 19,
      "outputs": []
    },
    {
      "cell_type": "code",
      "source": [
        "type(estudiante)"
      ],
      "metadata": {
        "colab": {
          "base_uri": "https://localhost:8080/"
        },
        "id": "mTP0B4HypFKj",
        "outputId": "60b5fd49-9044-4ba2-b54e-d9ce46567d91"
      },
      "execution_count": 23,
      "outputs": [
        {
          "output_type": "execute_result",
          "data": {
            "text/plain": [
              "str"
            ]
          },
          "metadata": {},
          "execution_count": 23
        }
      ]
    },
    {
      "cell_type": "code",
      "source": [
        "estudiante == 'Ricardo'"
      ],
      "metadata": {
        "colab": {
          "base_uri": "https://localhost:8080/"
        },
        "id": "Ou6VeizNpGEP",
        "outputId": "75580b5c-2f5c-4828-be71-d58dc72f74e6"
      },
      "execution_count": 25,
      "outputs": [
        {
          "output_type": "execute_result",
          "data": {
            "text/plain": [
              "True"
            ]
          },
          "metadata": {},
          "execution_count": 25
        }
      ]
    },
    {
      "cell_type": "code",
      "source": [
        "altura = 532.25\n",
        "ancho = 25\n",
        "total = altura * ancho\n",
        "print('La altura total es de: ' + str(total) + ' metros')"
      ],
      "metadata": {
        "colab": {
          "base_uri": "https://localhost:8080/"
        },
        "id": "xcuacQAApUox",
        "outputId": "a0a3555d-2180-47fe-e10b-13fd603ae305"
      },
      "execution_count": 2,
      "outputs": [
        {
          "output_type": "stream",
          "name": "stdout",
          "text": [
            "La altura total es de: 13306.25 metros\n"
          ]
        }
      ]
    },
    {
      "cell_type": "code",
      "source": [
        "total = 2048 + 4357 + 97658 + 125 + 8\n",
        "files = 5\n",
        "average = total / files\n",
        "print('El numero de ficheros medio es ' + str(average))"
      ],
      "metadata": {
        "colab": {
          "base_uri": "https://localhost:8080/"
        },
        "id": "J3MXaJWTI26U",
        "outputId": "b7e81e5b-8343-4654-c2ea-691c9b1e4672"
      },
      "execution_count": 3,
      "outputs": [
        {
          "output_type": "stream",
          "name": "stdout",
          "text": [
            "El numero de ficheros medio es 20839.2\n"
          ]
        }
      ]
    },
    {
      "cell_type": "code",
      "source": [
        "a = 'seis'\n",
        "b = 'cinco'\n",
        "print(a + b)"
      ],
      "metadata": {
        "colab": {
          "base_uri": "https://localhost:8080/"
        },
        "id": "spTn6ltkRtSw",
        "outputId": "eebd1631-4b8c-4e2d-ab8f-e8209258d633"
      },
      "execution_count": 6,
      "outputs": [
        {
          "output_type": "stream",
          "name": "stdout",
          "text": [
            "seiscinco\n"
          ]
        }
      ]
    },
    {
      "cell_type": "code",
      "source": [],
      "metadata": {
        "colab": {
          "base_uri": "https://localhost:8080/",
          "height": 145
        },
        "id": "mgT8mp4KU5Md",
        "outputId": "cadf4b51-f109-4de7-9e3b-32c9ef517e21"
      },
      "execution_count": 8,
      "outputs": [
        {
          "output_type": "error",
          "ename": "ValueError",
          "evalue": "invalid literal for int() with base 10: 'seis'",
          "traceback": [
            "\u001b[0;31m---------------------------------------------------------------------------\u001b[0m",
            "\u001b[0;31mValueError\u001b[0m                                Traceback (most recent call last)",
            "\u001b[0;32m<ipython-input-8-c783ea792008>\u001b[0m in \u001b[0;36m<cell line: 1>\u001b[0;34m()\u001b[0m\n\u001b[0;32m----> 1\u001b[0;31m \u001b[0mprint\u001b[0m\u001b[0;34m(\u001b[0m\u001b[0mint\u001b[0m\u001b[0;34m(\u001b[0m\u001b[0ma\u001b[0m\u001b[0;34m)\u001b[0m\u001b[0;34m)\u001b[0m\u001b[0;34m\u001b[0m\u001b[0;34m\u001b[0m\u001b[0m\n\u001b[0m",
            "\u001b[0;31mValueError\u001b[0m: invalid literal for int() with base 10: 'seis'"
          ]
        }
      ]
    },
    {
      "cell_type": "code",
      "source": [],
      "metadata": {
        "id": "WXPa0O7XU_Cb"
      },
      "execution_count": null,
      "outputs": []
    }
  ]
}