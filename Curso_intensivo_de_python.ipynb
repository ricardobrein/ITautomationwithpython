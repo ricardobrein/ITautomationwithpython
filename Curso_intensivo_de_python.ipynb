{
  "cells": [
    {
      "cell_type": "markdown",
      "metadata": {
        "colab_type": "text",
        "id": "view-in-github"
      },
      "source": [
        "<a href=\"https://colab.research.google.com/github/ricardobrein/ITautomationwithpython/blob/main/Curso_intensivo_de_python.ipynb\" target=\"_parent\"><img src=\"https://colab.research.google.com/assets/colab-badge.svg\" alt=\"Open In Colab\"/></a>"
      ]
    },
    {
      "cell_type": "code",
      "execution_count": null,
      "metadata": {
        "colab": {
          "base_uri": "https://localhost:8080/"
        },
        "id": "WOuQp4W1pZ8z",
        "outputId": "231de149-28cf-4f43-f3f8-8a8eef15d1cc"
      },
      "outputs": [
        {
          "name": "stdout",
          "output_type": "stream",
          "text": [
            "make me sweat, make me harder, make me lose my breath, make me water\n"
          ]
        }
      ],
      "source": [
        "print('make me sweat, make me harder, make me lose my breath, make me water')"
      ]
    },
    {
      "cell_type": "code",
      "execution_count": null,
      "metadata": {
        "colab": {
          "base_uri": "https://localhost:8080/"
        },
        "id": "2wx5GbKTqtbD",
        "outputId": "f7bddf47-3cc2-48e9-c66b-48acde7b216f"
      },
      "outputs": [
        {
          "name": "stdout",
          "output_type": "stream",
          "text": [
            "🎶(Chorus)🎶\n",
            "Make me sweat, make me harder, \n",
            "Make me lose my breath, make me water\n",
            "Make me sweat, make me harder, \n",
            "Make me lose my breath, make me water\n"
          ]
        }
      ],
      "source": [
        "# prompt: print the first verse of the chorus of the song \"water\" from Tyla in python code with symbols of songs\n",
        "\n",
        "print('''🎶(Chorus)🎶\n",
        "Make me sweat, make me harder,\n",
        "Make me lose my breath, make me water\n",
        "Make me sweat, make me harder,\n",
        "Make me lose my breath, make me water''')\n"
      ]
    },
    {
      "cell_type": "code",
      "execution_count": null,
      "metadata": {
        "colab": {
          "base_uri": "https://localhost:8080/"
        },
        "id": "TVd8jRsMxu4m",
        "outputId": "55581444-0a7c-42ae-91df-78b704fcf4e0"
      },
      "outputs": [
        {
          "name": "stdout",
          "output_type": "stream",
          "text": [
            "2.25\n"
          ]
        }
      ],
      "source": [
        "print(2+2/((2+2)+(2**2)))"
      ]
    },
    {
      "cell_type": "code",
      "execution_count": null,
      "metadata": {
        "colab": {
          "base_uri": "https://localhost:8080/"
        },
        "id": "S2TreDU_xvWu",
        "outputId": "4024011c-e89b-46b9-8c9c-06e7580eb18d"
      },
      "outputs": [
        {
          "name": "stdout",
          "output_type": "stream",
          "text": [
            "4\n"
          ]
        }
      ],
      "source": [
        "# prompt: Pregunta 9\n",
        "# El mercado está a seis millas de su casa. La escuela está a tres kilómetros de su casa. Utilice Python para calcular cuánto más lejos está el mercado de su casa que la escuela (en millas). Nota: Su resultado debe tener el formato de un número, no de una frase.\n",
        "\n",
        "market_distance_miles = 6\n",
        "school_distance_km = 3\n",
        "# Convert school distance to miles (approximately 1 km = 0.621371 miles)\n",
        "school_distance_miles = school_distance_km * 0.621371\n",
        "\n",
        "# Calculate the difference in distance\n",
        "difference_in_miles = market_distance_miles - school_distance_miles\n",
        "\n",
        "print(round(difference_in_miles))\n"
      ]
    },
    {
      "cell_type": "code",
      "execution_count": 1,
      "metadata": {
        "colab": {
          "base_uri": "https://localhost:8080/"
        },
        "id": "Y63O-E7byPV2",
        "outputId": "5483ac51-973b-4b2d-bebe-656dd5abbced"
      },
      "outputs": [
        {
          "data": {
            "text/plain": [
              "10"
            ]
          },
          "execution_count": 1,
          "metadata": {},
          "output_type": "execute_result"
        }
      ],
      "source": [
        "(2*3) + 4"
      ]
    },
    {
      "cell_type": "code",
      "execution_count": 15,
      "metadata": {
        "colab": {
          "base_uri": "https://localhost:8080/"
        },
        "id": "g1yp1e9C5nE9",
        "outputId": "8c896da4-626a-4d9d-c24f-d42a9c651f24"
      },
      "outputs": [
        {
          "name": "stdout",
          "output_type": "stream",
          "text": [
            "Hola mundo!\n",
            "¿Cual es tu nombre?: Ricardo\n",
            "Hola, Ricardo\n"
          ]
        }
      ],
      "source": [
        "print('Hola mundo!')\n",
        "nombre = input('¿Cual es tu nombre?: ')\n",
        "print('Hola, ' + nombre)"
      ]
    },
    {
      "cell_type": "code",
      "execution_count": 6,
      "metadata": {
        "colab": {
          "base_uri": "https://localhost:8080/",
          "height": 182
        },
        "id": "AGWiiW6b53WF",
        "outputId": "aba33984-cf41-476c-9bd3-a1c1da139456"
      },
      "outputs": [
        {
          "ename": "NameError",
          "evalue": "name 'upper' is not defined",
          "output_type": "error",
          "traceback": [
            "\u001b[0;31m---------------------------------------------------------------------------\u001b[0m",
            "\u001b[0;31mNameError\u001b[0m                                 Traceback (most recent call last)",
            "\u001b[0;32m<ipython-input-6-3f89bf2d245f>\u001b[0m in \u001b[0;36m<cell line: 2>\u001b[0;34m()\u001b[0m\n\u001b[1;32m      1\u001b[0m \u001b[0mvar\u001b[0m \u001b[0;34m=\u001b[0m \u001b[0;34m'manuel'\u001b[0m\u001b[0;34m\u001b[0m\u001b[0;34m\u001b[0m\u001b[0m\n\u001b[0;32m----> 2\u001b[0;31m \u001b[0mupper\u001b[0m\u001b[0;34m(\u001b[0m\u001b[0mvar\u001b[0m\u001b[0;34m)\u001b[0m\u001b[0;34m\u001b[0m\u001b[0;34m\u001b[0m\u001b[0m\n\u001b[0m\u001b[1;32m      3\u001b[0m \u001b[0mprint\u001b[0m\u001b[0;34m(\u001b[0m\u001b[0mvar\u001b[0m\u001b[0;34m)\u001b[0m\u001b[0;34m\u001b[0m\u001b[0;34m\u001b[0m\u001b[0m\n",
            "\u001b[0;31mNameError\u001b[0m: name 'upper' is not defined"
          ]
        }
      ],
      "source": [
        "var = 'manuel'\n",
        "upper(var)\n",
        "print(var)"
      ]
    },
    {
      "cell_type": "code",
      "execution_count": 8,
      "metadata": {
        "colab": {
          "base_uri": "https://localhost:8080/"
        },
        "id": "Imdj3pWs6CwV",
        "outputId": "bbea6bfd-09b9-49fa-8633-966f5a6003ec"
      },
      "outputs": [
        {
          "name": "stdout",
          "output_type": "stream",
          "text": [
            "HOLA, MUNDO\n"
          ]
        }
      ],
      "source": [
        "texto = 'Hola, mundo'\n",
        "print(texto.upper())"
      ]
    },
    {
      "cell_type": "code",
      "execution_count": 12,
      "metadata": {
        "colab": {
          "base_uri": "https://localhost:8080/"
        },
        "id": "K-or2Y9C6qR-",
        "outputId": "ae59a587-80d8-4e36-d56d-9f933e2b1395"
      },
      "outputs": [
        {
          "name": "stdout",
          "output_type": "stream",
          "text": [
            "False\n"
          ]
        }
      ],
      "source": [
        "print(texto.startswith('mundo'))"
      ]
    },
    {
      "cell_type": "code",
      "execution_count": 1,
      "metadata": {
        "id": "unH4n4Z26y8L"
      },
      "outputs": [],
      "source": [
        "List:[int] = [25,29,30]"
      ]
    },
    {
      "cell_type": "code",
      "execution_count": 2,
      "metadata": {
        "colab": {
          "base_uri": "https://localhost:8080/"
        },
        "id": "jUpzSonkmZuw",
        "outputId": "2d8003a5-9409-416f-d3ea-b8798f540c84"
      },
      "outputs": [
        {
          "data": {
            "text/plain": [
              "[25, 29, 30]"
            ]
          },
          "execution_count": 2,
          "metadata": {},
          "output_type": "execute_result"
        }
      ],
      "source": [
        "List"
      ]
    },
    {
      "cell_type": "code",
      "execution_count": 3,
      "metadata": {
        "id": "Qy4g8nxLmdxC"
      },
      "outputs": [],
      "source": [
        "List.append(31)"
      ]
    },
    {
      "cell_type": "code",
      "execution_count": 4,
      "metadata": {
        "colab": {
          "base_uri": "https://localhost:8080/"
        },
        "id": "nAlk0CU7mhKZ",
        "outputId": "be525b81-8c3d-4580-aa17-005667e6b22c"
      },
      "outputs": [
        {
          "data": {
            "text/plain": [
              "[25, 29, 30, 31]"
            ]
          },
          "execution_count": 4,
          "metadata": {},
          "output_type": "execute_result"
        }
      ],
      "source": [
        "List"
      ]
    },
    {
      "cell_type": "code",
      "execution_count": 5,
      "metadata": {
        "colab": {
          "base_uri": "https://localhost:8080/"
        },
        "id": "rJ15vBosmh0T",
        "outputId": "ccf5bcd4-0584-411f-cb6e-101a13ea5540"
      },
      "outputs": [
        {
          "data": {
            "text/plain": [
              "25"
            ]
          },
          "execution_count": 5,
          "metadata": {},
          "output_type": "execute_result"
        }
      ],
      "source": [
        "List.pop(0)"
      ]
    },
    {
      "cell_type": "code",
      "execution_count": 6,
      "metadata": {
        "colab": {
          "base_uri": "https://localhost:8080/"
        },
        "id": "zHZB0Z77mk-c",
        "outputId": "7d52986c-41e3-45f6-93a9-d398dcc7f43b"
      },
      "outputs": [
        {
          "data": {
            "text/plain": [
              "[29, 30, 31]"
            ]
          },
          "execution_count": 6,
          "metadata": {},
          "output_type": "execute_result"
        }
      ],
      "source": [
        "List"
      ]
    },
    {
      "cell_type": "code",
      "execution_count": 7,
      "metadata": {
        "id": "Zqa6q7pWmmno"
      },
      "outputs": [],
      "source": [
        "List.append(25)"
      ]
    },
    {
      "cell_type": "code",
      "execution_count": 8,
      "metadata": {
        "colab": {
          "base_uri": "https://localhost:8080/"
        },
        "id": "JcvSrEPwmpgv",
        "outputId": "25988134-9d21-41b7-db61-bcdc3b958fb1"
      },
      "outputs": [
        {
          "data": {
            "text/plain": [
              "[29, 30, 31, 25]"
            ]
          },
          "execution_count": 8,
          "metadata": {},
          "output_type": "execute_result"
        }
      ],
      "source": [
        "List"
      ]
    },
    {
      "cell_type": "code",
      "execution_count": 10,
      "metadata": {
        "id": "for20oL2mqKg"
      },
      "outputs": [],
      "source": [
        "List.sort()"
      ]
    },
    {
      "cell_type": "code",
      "execution_count": 11,
      "metadata": {
        "colab": {
          "base_uri": "https://localhost:8080/"
        },
        "id": "zuoQyv1rmsox",
        "outputId": "87495fa8-dc63-44b9-d232-758ab61e6753"
      },
      "outputs": [
        {
          "data": {
            "text/plain": [
              "[25, 29, 30, 31]"
            ]
          },
          "execution_count": 11,
          "metadata": {},
          "output_type": "execute_result"
        }
      ],
      "source": [
        "List"
      ]
    },
    {
      "cell_type": "code",
      "execution_count": 12,
      "metadata": {
        "id": "SFZ4rWrEmu3u"
      },
      "outputs": [],
      "source": [
        "nombre:str = 'Pedro'"
      ]
    },
    {
      "cell_type": "code",
      "execution_count": 13,
      "metadata": {
        "colab": {
          "base_uri": "https://localhost:8080/",
          "height": 37
        },
        "id": "T736XsfJm8y8",
        "outputId": "51e8a51f-4484-4a5f-e219-75c0dd79312e"
      },
      "outputs": [
        {
          "data": {
            "application/vnd.google.colaboratory.intrinsic+json": {
              "type": "string"
            },
            "text/plain": [
              "'Pedro'"
            ]
          },
          "execution_count": 13,
          "metadata": {},
          "output_type": "execute_result"
        }
      ],
      "source": [
        "nombre"
      ]
    },
    {
      "cell_type": "code",
      "execution_count": 14,
      "metadata": {
        "colab": {
          "base_uri": "https://localhost:8080/"
        },
        "id": "bj8hbLBFm971",
        "outputId": "746dc8bd-1d5d-489f-b7f0-412d1771cbd4"
      },
      "outputs": [
        {
          "name": "stdout",
          "output_type": "stream",
          "text": [
            "Pedro\n"
          ]
        }
      ],
      "source": [
        "print(nombre)"
      ]
    },
    {
      "cell_type": "code",
      "execution_count": 15,
      "metadata": {
        "id": "yQsUAsxxnDVT"
      },
      "outputs": [],
      "source": [
        "List.append(nombre)"
      ]
    },
    {
      "cell_type": "code",
      "execution_count": 16,
      "metadata": {
        "colab": {
          "base_uri": "https://localhost:8080/"
        },
        "id": "vzmgnxR0nNAR",
        "outputId": "325e760e-d247-4543-9d50-01dfa2a1360e"
      },
      "outputs": [
        {
          "data": {
            "text/plain": [
              "[25, 29, 30, 31, 'Pedro']"
            ]
          },
          "execution_count": 16,
          "metadata": {},
          "output_type": "execute_result"
        }
      ],
      "source": [
        "List"
      ]
    },
    {
      "cell_type": "code",
      "execution_count": 18,
      "metadata": {
        "colab": {
          "base_uri": "https://localhost:8080/"
        },
        "id": "Pymc9QTwnOnw",
        "outputId": "fda6f908-cd1c-429e-9fb5-ea8e5d249aa8"
      },
      "outputs": [
        {
          "name": "stdout",
          "output_type": "stream",
          "text": [
            "<class 'int'>\n",
            "<class 'str'>\n"
          ]
        }
      ],
      "source": [
        "a = 1\n",
        "print(type(a))\n",
        "a = 'hola'\n",
        "print(type(a))"
      ]
    },
    {
      "cell_type": "markdown",
      "metadata": {
        "id": "bH2uWxWzoBmC"
      },
      "source": [
        "**Las anotaciones afectan de tipo al comportamiento en tiempo de ejecución**\n",
        "Cada vez que se llama a una librería, o un IDE trabaja para escanear tu código, se requiere más sobrecarga computacional."
      ]
    },
    {
      "cell_type": "markdown",
      "metadata": {
        "id": "SGyjdArlpc0r"
      },
      "source": [
        "Anotar variables directamente es la forma más \"moderna\" de anotar una variable."
      ]
    },
    {
      "cell_type": "code",
      "execution_count": 19,
      "metadata": {
        "id": "uUUjCQsFnkBd"
      },
      "outputs": [],
      "source": [
        "estudiante:str = 'Ricardo'"
      ]
    },
    {
      "cell_type": "code",
      "execution_count": 23,
      "metadata": {
        "colab": {
          "base_uri": "https://localhost:8080/"
        },
        "id": "mTP0B4HypFKj",
        "outputId": "60b5fd49-9044-4ba2-b54e-d9ce46567d91"
      },
      "outputs": [
        {
          "data": {
            "text/plain": [
              "str"
            ]
          },
          "execution_count": 23,
          "metadata": {},
          "output_type": "execute_result"
        }
      ],
      "source": [
        "type(estudiante)"
      ]
    },
    {
      "cell_type": "code",
      "execution_count": 25,
      "metadata": {
        "colab": {
          "base_uri": "https://localhost:8080/"
        },
        "id": "Ou6VeizNpGEP",
        "outputId": "75580b5c-2f5c-4828-be71-d58dc72f74e6"
      },
      "outputs": [
        {
          "data": {
            "text/plain": [
              "True"
            ]
          },
          "execution_count": 25,
          "metadata": {},
          "output_type": "execute_result"
        }
      ],
      "source": [
        "estudiante == 'Ricardo'"
      ]
    },
    {
      "cell_type": "code",
      "execution_count": 2,
      "metadata": {
        "colab": {
          "base_uri": "https://localhost:8080/"
        },
        "id": "xcuacQAApUox",
        "outputId": "a0a3555d-2180-47fe-e10b-13fd603ae305"
      },
      "outputs": [
        {
          "name": "stdout",
          "output_type": "stream",
          "text": [
            "La altura total es de: 13306.25 metros\n"
          ]
        }
      ],
      "source": [
        "altura = 532.25\n",
        "ancho = 25\n",
        "total = altura * ancho\n",
        "print('La altura total es de: ' + str(total) + ' metros')"
      ]
    },
    {
      "cell_type": "code",
      "execution_count": 3,
      "metadata": {
        "colab": {
          "base_uri": "https://localhost:8080/"
        },
        "id": "J3MXaJWTI26U",
        "outputId": "b7e81e5b-8343-4654-c2ea-691c9b1e4672"
      },
      "outputs": [
        {
          "name": "stdout",
          "output_type": "stream",
          "text": [
            "El numero de ficheros medio es 20839.2\n"
          ]
        }
      ],
      "source": [
        "total = 2048 + 4357 + 97658 + 125 + 8\n",
        "files = 5\n",
        "average = total / files\n",
        "print('El numero de ficheros medio es ' + str(average))"
      ]
    },
    {
      "cell_type": "code",
      "execution_count": 6,
      "metadata": {
        "colab": {
          "base_uri": "https://localhost:8080/"
        },
        "id": "spTn6ltkRtSw",
        "outputId": "eebd1631-4b8c-4e2d-ab8f-e8209258d633"
      },
      "outputs": [
        {
          "name": "stdout",
          "output_type": "stream",
          "text": [
            "seiscinco\n"
          ]
        }
      ],
      "source": [
        "a = 'seis'\n",
        "b = 'cinco'\n",
        "print(a + b)"
      ]
    },
    {
      "cell_type": "code",
      "execution_count": 8,
      "metadata": {
        "colab": {
          "base_uri": "https://localhost:8080/",
          "height": 145
        },
        "id": "mgT8mp4KU5Md",
        "outputId": "cadf4b51-f109-4de7-9e3b-32c9ef517e21"
      },
      "outputs": [
        {
          "ename": "ValueError",
          "evalue": "invalid literal for int() with base 10: 'seis'",
          "output_type": "error",
          "traceback": [
            "\u001b[0;31m---------------------------------------------------------------------------\u001b[0m",
            "\u001b[0;31mValueError\u001b[0m                                Traceback (most recent call last)",
            "\u001b[0;32m<ipython-input-8-c783ea792008>\u001b[0m in \u001b[0;36m<cell line: 1>\u001b[0;34m()\u001b[0m\n\u001b[0;32m----> 1\u001b[0;31m \u001b[0mprint\u001b[0m\u001b[0;34m(\u001b[0m\u001b[0mint\u001b[0m\u001b[0;34m(\u001b[0m\u001b[0ma\u001b[0m\u001b[0;34m)\u001b[0m\u001b[0;34m)\u001b[0m\u001b[0;34m\u001b[0m\u001b[0;34m\u001b[0m\u001b[0m\n\u001b[0m",
            "\u001b[0;31mValueError\u001b[0m: invalid literal for int() with base 10: 'seis'"
          ]
        }
      ],
      "source": []
    },
    {
      "cell_type": "markdown",
      "metadata": {
        "id": "WXPa0O7XU_Cb"
      },
      "source": [
        "## Repaso de Funciones en Python\n",
        "\n",
        "Las funciones son pequeños bloques de codigo que realizan una accion especifica que podría ser repetitiva y que podríamos llamar en cualquier parte del código."
      ]
    },
    {
      "cell_type": "code",
      "execution_count": 8,
      "metadata": {},
      "outputs": [
        {
          "name": "stdout",
          "output_type": "stream",
          "text": [
            "Bienvenido Ricardo\n",
            "Dirigete a la seccion de IT\n"
          ]
        }
      ],
      "source": [
        "def saludar(name, department):\n",
        "    print('Bienvenido ' + name)\n",
        "    print('Dirigete a la seccion de', department)\n",
        "\n",
        "saludar('Ricardo', 'IT' )"
      ]
    },
    {
      "cell_type": "code",
      "execution_count": 27,
      "metadata": {},
      "outputs": [
        {
          "name": "stdout",
          "output_type": "stream",
          "text": [
            "Nuevo usuario agregado:  ('Manuel Perez', 17)\n"
          ]
        }
      ],
      "source": [
        "edad = 95\n",
        "def agregar_usuarios(nombre_apellido, edad= 95):\n",
        "    nuevo_usuario = (nombre_apellido, edad)\n",
        "    print('Nuevo usuario agregado: ', str(nuevo_usuario))\n",
        "\n",
        "\n",
        "agregar_usuarios('Manuel Perez', 17)"
      ]
    },
    {
      "cell_type": "code",
      "execution_count": 28,
      "metadata": {},
      "outputs": [
        {
          "name": "stdout",
          "output_type": "stream",
          "text": [
            "[0, 2, 2, 5, 6, 51, 52, 52, 85, 526, 6562]\n"
          ]
        }
      ],
      "source": [
        "sesiones = [2, 5, 6, 52, 526, 51, 2, 0, 6562, 52, 85,]\n",
        "print(sorted(sesiones))"
      ]
    },
    {
      "cell_type": "code",
      "execution_count": 29,
      "metadata": {},
      "outputs": [
        {
          "data": {
            "text/plain": [
              "0"
            ]
          },
          "execution_count": 29,
          "metadata": {},
          "output_type": "execute_result"
        }
      ],
      "source": [
        "min(sesiones)"
      ]
    },
    {
      "cell_type": "code",
      "execution_count": 30,
      "metadata": {},
      "outputs": [
        {
          "data": {
            "text/plain": [
              "6562"
            ]
          },
          "execution_count": 30,
          "metadata": {},
          "output_type": "execute_result"
        }
      ],
      "source": [
        "max(sesiones)"
      ]
    },
    {
      "cell_type": "code",
      "execution_count": null,
      "metadata": {},
      "outputs": [],
      "source": []
    }
  ],
  "metadata": {
    "colab": {
      "authorship_tag": "ABX9TyMsQJsSSD+R49wh97qeeOwh",
      "include_colab_link": true,
      "provenance": []
    },
    "kernelspec": {
      "display_name": "Python 3",
      "name": "python3"
    },
    "language_info": {
      "codemirror_mode": {
        "name": "ipython",
        "version": 3
      },
      "file_extension": ".py",
      "mimetype": "text/x-python",
      "name": "python",
      "nbconvert_exporter": "python",
      "pygments_lexer": "ipython3",
      "version": "3.12.1"
    }
  },
  "nbformat": 4,
  "nbformat_minor": 0
}
